{
 "cells": [
  {
   "cell_type": "code",
   "execution_count": 4,
   "metadata": {},
   "outputs": [
    {
     "name": "stdout",
     "output_type": "stream",
     "text": [
      "[10, 20, 'red', True, 3.14159, 10] <class 'list'>\n",
      "(1, 2, 3, 4, 5, 'apple', 2) <class 'tuple'>\n",
      "{1, 2, 3, 4, 5} <class 'set'>\n",
      "{'title': 'samosa', 'price': 10, 'qyt': 5} <class 'dict'>\n"
     ]
    }
   ],
   "source": [
    "x1=[10,20,'red',True,3.14159,10]\n",
    "print(x1,type(x1))\n",
    "x2=(1,2,3,4,5,'apple', 2)\n",
    "print(x2,type(x2))\n",
    "x3={1,2,3,4,5,2}\n",
    "print(x3 , type(x3))\n",
    "x4={'title':'samosa','price':10,'qyt':5}\n",
    "print(x4,type(x4))"
   ]
  },
  {
   "cell_type": "code",
   "execution_count": 12,
   "metadata": {},
   "outputs": [
    {
     "name": "stdout",
     "output_type": "stream",
     "text": [
      "[10, 20, 30, 'apple'] <class 'list'>\n",
      "(1, 2, 3, 4, 5, 'mango', 'grapes', 5) <class 'set'>\n",
      "{1, 2, 3, 4, 5, 6, 'banana'} <class 'set'>\n",
      "{'name': 'john', 'age': 20, 'gender': 'male'} <class 'dict'>\n"
     ]
    }
   ],
   "source": [
    "x1=[10,20,30,\"apple\"]\n",
    "print(x1,type(x1))\n",
    "x2=(1,2,3,4,5,'mango','grapes',5)\n",
    "print(x2, type(x3))\n",
    "x3={1,2,3,4,5,6,2,\"banana\"}\n",
    "print(x3,type(x3))\n",
    "x4={\"name\":\"john\", \"age\":20, \"gender\":\"male\"}\n",
    "print(x4,type(x4))\n"
   ]
  },
  {
   "cell_type": "code",
   "execution_count": 13,
   "metadata": {},
   "outputs": [
    {
     "name": "stdout",
     "output_type": "stream",
     "text": [
      "Getting element from list\n",
      "First element: 10\n",
      "second element: 20\n",
      "third element: 30\n",
      "Last element: apple\n",
      "--------------------\n",
      "Getting elements from tuple\n",
      "first element: 1\n",
      "second element: 2\n",
      "last element: 5\n",
      "--\n"
     ]
    },
    {
     "ename": "TypeError",
     "evalue": "unsupported operand type(s) for *: 'NoneType' and 'int'",
     "output_type": "error",
     "traceback": [
      "\u001b[1;31m---------------------------------------------------------------------------\u001b[0m",
      "\u001b[1;31mTypeError\u001b[0m                                 Traceback (most recent call last)",
      "Cell \u001b[1;32mIn[13], line 11\u001b[0m\n\u001b[0;32m      9\u001b[0m \u001b[38;5;28mprint\u001b[39m(\u001b[38;5;124m'\u001b[39m\u001b[38;5;124msecond element:\u001b[39m\u001b[38;5;124m'\u001b[39m,x2[\u001b[38;5;241m1\u001b[39m])\n\u001b[0;32m     10\u001b[0m \u001b[38;5;28mprint\u001b[39m(\u001b[38;5;124m'\u001b[39m\u001b[38;5;124mlast element:\u001b[39m\u001b[38;5;124m'\u001b[39m,x2[\u001b[38;5;241m-\u001b[39m\u001b[38;5;241m1\u001b[39m])\n\u001b[1;32m---> 11\u001b[0m \u001b[38;5;28mprint\u001b[39m(\u001b[38;5;124m'\u001b[39m\u001b[38;5;124m--\u001b[39m\u001b[38;5;124m'\u001b[39m)\u001b[38;5;241m*\u001b[39m\u001b[38;5;241m10\u001b[39m\n\u001b[0;32m     12\u001b[0m \u001b[38;5;28mprint\u001b[39m(\u001b[38;5;124m'\u001b[39m\u001b[38;5;124mGetting items from set\u001b[39m\u001b[38;5;124m'\u001b[39m)\n\u001b[0;32m     13\u001b[0m \u001b[38;5;28mprint\u001b[39m(\u001b[38;5;124m'\u001b[39m\u001b[38;5;124m🍔 we cannot, as set are unordered\u001b[39m\u001b[38;5;124m'\u001b[39m)\n",
      "\u001b[1;31mTypeError\u001b[0m: unsupported operand type(s) for *: 'NoneType' and 'int'"
     ]
    }
   ],
   "source": [
    "print('Getting element from list')\n",
    "print('First element:', x1[0])\n",
    "print('second element:',x1[1])\n",
    "print('third element:',x1[2])\n",
    "print('Last element:',x1[-1])\n",
    "print('--'*10)\n",
    "print('Getting elements from tuple')\n",
    "print('first element:',x2[0])\n",
    "print('second element:',x2[1])\n",
    "print('last element:',x2[-1])\n",
    "print('--')*10\n",
    "print('Getting items from set')\n",
    "print('🍔 we cannot, as set are unordered')\n",
    "print('--'*10)\n",
    "print('Getting itmes from dict')\n",
    "print('Name', x4['name'])\n",
    "print('Age', x4['age'])\n",
    "print(\"Gender\",x4 [\"gender\"])\n",
    "print(\"Quantity\", x4.get(\"qty\"))\n",
    "print('--'*10)"
   ]
  },
  {
   "cell_type": "code",
   "execution_count": 2,
   "metadata": {},
   "outputs": [
    {
     "name": "stdout",
     "output_type": "stream",
     "text": [
      "[1, 2, 3, 10]\n",
      "[1, 100, 2, 3, 10]\n"
     ]
    }
   ],
   "source": [
    "x=[1,2,3]\n",
    "x.append(10)\n",
    "print(x)\n",
    "x.insert(1,100)\n",
    "print(x)"
   ]
  },
  {
   "cell_type": "code",
   "execution_count": 3,
   "metadata": {},
   "outputs": [
    {
     "name": "stdout",
     "output_type": "stream",
     "text": [
      "{'dragonfurite', 'aaple', 'cherry', 'banana'}\n"
     ]
    }
   ],
   "source": [
    "#set\n",
    "a={'aaple','banana','cherry'}\n",
    "a.add('dragonfurite')\n",
    "print(a)"
   ]
  },
  {
   "cell_type": "code",
   "execution_count": 4,
   "metadata": {},
   "outputs": [
    {
     "name": "stdout",
     "output_type": "stream",
     "text": [
      "{'name': 'shivam', 'school': 'cms'}\n"
     ]
    }
   ],
   "source": [
    "#dict\n",
    "b={'name':'shivam'}\n",
    "b['school']='cms' \n",
    "print(b)"
   ]
  },
  {
   "cell_type": "code",
   "execution_count": 5,
   "metadata": {},
   "outputs": [
    {
     "name": "stdout",
     "output_type": "stream",
     "text": [
      "[1, 100, 2, 3, 10]\n",
      "[1, 2, 3, 10]\n",
      "[2, 3, 10]\n",
      "[2, 3]\n"
     ]
    }
   ],
   "source": [
    "print(x)\n",
    "x.remove(100) #will remove the value 100 from list\n",
    "print(x)\n",
    "x.pop(0) #will remove the value at index 0\n",
    "print(x)\n",
    "x.pop() #will remove thr last value \n",
    "print(x)\n"
   ]
  },
  {
   "cell_type": "code",
   "execution_count": 6,
   "metadata": {},
   "outputs": [
    {
     "name": "stdout",
     "output_type": "stream",
     "text": [
      "{'dragonfurite', 'aaple', 'cherry', 'banana'}\n",
      "{'dragonfurite', 'aaple', 'cherry', 'banana'}\n",
      "{'dragonfurite', 'aaple', 'cherry'}\n"
     ]
    }
   ],
   "source": [
    "#set\n",
    "print(a)\n",
    "a.discard('apple')\n",
    "print(a)\n",
    "a.remove('banana')\n",
    "print(a)"
   ]
  },
  {
   "cell_type": "code",
   "execution_count": 7,
   "metadata": {},
   "outputs": [
    {
     "name": "stdout",
     "output_type": "stream",
     "text": [
      "{'name': 'shivam', 'school': 'cms'}\n",
      "{'name': 'shivam'}\n"
     ]
    }
   ],
   "source": [
    "#dict\n",
    "print(b)\n",
    "b.pop('school')\n",
    "print(b)"
   ]
  },
  {
   "cell_type": "code",
   "execution_count": 17,
   "metadata": {},
   "outputs": [
    {
     "name": "stdout",
     "output_type": "stream",
     "text": [
      "(28, 45, 32, 7, 41, 97, 94, 73, 15, 52)\n"
     ]
    }
   ],
   "source": [
    "import random\n",
    "random_numbers = tuple(random.randint(1, 100) for _ in range(10))\n",
    "print( random_numbers)\n"
   ]
  },
  {
   "cell_type": "code",
   "execution_count": 18,
   "metadata": {},
   "outputs": [
    {
     "name": "stdout",
     "output_type": "stream",
     "text": [
      "{'Peony', 'Daffodil', 'Tulip', 'Sunflower', 'Orchid', 'Lily', 'Daisy', 'Carnation', 'Hibiscus', 'worng_turn'}\n",
      "{'Chrysanthemum', 'Poppy', 'Iris', 'Hydrangea', 'Marigold', 'Gerbera', 'Lavender', 'Bougainvillea', 'Dahlia', 'Pansy'}\n",
      "{'Peony', 'Daffodil', 'Tulip', 'Sunflower', 'Orchid', 'Lily', 'Daisy', 'Carnation', 'Hibiscus', 'worng_turn'}\n"
     ]
    }
   ],
   "source": [
    "flowers_set1 = {\"worng_turn\", \"Lily\", \"Tulip\", \"Daisy\", \"Sunflower\", \"Orchid\", \"Carnation\", \"Daffodil\", \"Hibiscus\", \"Peony\"}\n",
    "flowers_set2 = {\"Lavender\", \"Chrysanthemum\", \"Gerbera\", \"Poppy\", \"Marigold\", \"Dahlia\", \"Iris\", \"Hydrangea\", \"Pansy\", \"Bougainvillea\"}\n",
    "f1 = set()\n",
    "f1.update(flowers_set1)\n",
    "print(flowers_set1)\n",
    "print(flowers_set2)\n",
    "print(f1)\n"
   ]
  },
  {
   "cell_type": "code",
   "execution_count": 13,
   "metadata": {},
   "outputs": [
    {
     "name": "stdout",
     "output_type": "stream",
     "text": [
      "{'employee_id': 1, 'first_name': 'John', 'last_name': 'Doe', 'position': 'Software Engineer', 'department': 'Engineering', 'salary': 80000, 'join_date': '2022-01-01', 'email': 'john.doe@example.com'}\n"
     ]
    }
   ],
   "source": [
    "employee_data = {\n",
    "    'employee_id': 1,\n",
    "    'first_name': 'shivam',\n",
    "    'last_name': 'singh',\n",
    "    'position': 'Software Engineer',\n",
    "    'department': 'Engineering',\n",
    "    'salary': 80000,\n",
    "    'join_date': '2024-01-01',\n",
    "    'email': 'singh.shivam757@gmail.com'\n",
    "}\n",
    "print(employee_data)"
   ]
  },
  {
   "cell_type": "code",
   "execution_count": 22,
   "metadata": {},
   "outputs": [
    {
     "name": "stdout",
     "output_type": "stream",
     "text": [
      "['MS Dhoni', 'RR', 'BA Pass', 'animal', 'pathan', 'Aaan', 'love story', 'PK', 'karan arjun']\n"
     ]
    }
   ],
   "source": [
    "movie=[]\n",
    "movie.append(\"MS Dhoni\")\n",
    "movie.append(\"RR\")\n",
    "movie.append(\"BA Pass\")\n",
    "movie.append(\"animal\")\n",
    "movie.append(\"pathan\")\n",
    "movie.append(\"Aaan\")\n",
    "movie.append(\"love story\")\n",
    "movie.append(\"PK\")\n",
    "movie.append(\"karan arjun\")\n",
    "print(movie)"
   ]
  },
  {
   "cell_type": "code",
   "execution_count": null,
   "metadata": {},
   "outputs": [],
   "source": [
    "movie=[]\n",
    "for i in range(10):\n",
    "    name= input(\"enter amovie =>\")\n",
    "    movie.append(name)\n"
   ]
  }
 ],
 "metadata": {
  "kernelspec": {
   "display_name": "base",
   "language": "python",
   "name": "python3"
  },
  "language_info": {
   "codemirror_mode": {
    "name": "ipython",
    "version": 3
   },
   "file_extension": ".py",
   "mimetype": "text/x-python",
   "name": "python",
   "nbconvert_exporter": "python",
   "pygments_lexer": "ipython3",
   "version": "3.11.5"
  }
 },
 "nbformat": 4,
 "nbformat_minor": 2
}
