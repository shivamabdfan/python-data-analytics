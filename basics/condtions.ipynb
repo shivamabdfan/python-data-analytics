{
 "cells": [
  {
   "cell_type": "code",
   "execution_count": 3,
   "metadata": {},
   "outputs": [
    {
     "name": "stdout",
     "output_type": "stream",
     "text": [
      "pencle\n",
      "your word is long enough\n",
      "done\n"
     ]
    }
   ],
   "source": [
    "x = input(\"enter a word:\")\n",
    "print(x)\n",
    "if len(x)>=5:\n",
    "    print(\"your word is long enough\")\n",
    "print(\"done\")"
   ]
  },
  {
   "cell_type": "code",
   "execution_count": 4,
   "metadata": {},
   "outputs": [
    {
     "name": "stdout",
     "output_type": "stream",
     "text": [
      "1234 is even\n"
     ]
    }
   ],
   "source": [
    "num = int(input(\"enter a number:\"))\n",
    "if num %2==0:\n",
    "    print(f\"{num} is even\")\n",
    "else:\n",
    "    print(f\"{num} is odd\")"
   ]
  },
  {
   "cell_type": "markdown",
   "metadata": {},
   "source": [
    "nested if-else"
   ]
  },
  {
   "cell_type": "code",
   "execution_count": 10,
   "metadata": {},
   "outputs": [
    {
     "name": "stdout",
     "output_type": "stream",
     "text": [
      "12 is smaller than 100\n"
     ]
    }
   ],
   "source": [
    "x = input(\"enter a number\")\n",
    "if x.isnumeric():\n",
    "    x=int(x)\n",
    "    if x>100:\n",
    "        print(f\"{x} is greater than 100\")\n",
    "    else:\n",
    "        print(f\"{x} is smaller than 100\")\n",
    "else:\n",
    "    print(f\"{x} is not a number\")"
   ]
  },
  {
   "cell_type": "markdown",
   "metadata": {},
   "source": [
    "if and if lander"
   ]
  },
  {
   "cell_type": "code",
   "execution_count": 12,
   "metadata": {},
   "outputs": [
    {
     "name": "stdout",
     "output_type": "stream",
     "text": [
      "welcome to the restaurat!\n",
      " emerican burger=>150.00\n"
     ]
    }
   ],
   "source": [
    "print(\"welcome to the restaurat!\")\n",
    "dish = input(\"enter the dish name:\")\n",
    "if dish == \"dosa\":\n",
    "    print(\"south indian dosa=>75.00\")\n",
    "elif dish==\"pizza\":\n",
    "    print(\"italian pizza=>350.00\" )\n",
    "elif dish==\"burger\":\n",
    "    print(\" emerican burger=>150.00\")\n",
    "else:\n",
    "    print(\"sorry ! we don't havethat dish\")\n",
    "    "
   ]
  },
  {
   "cell_type": "code",
   "execution_count": 14,
   "metadata": {},
   "outputs": [
    {
     "name": "stdout",
     "output_type": "stream",
     "text": [
      "The Menu:\n",
      "select a category\n",
      "1. indian\n",
      "2. italian\n",
      "3. american\n",
      "american dishes\n",
      "1. burger\n",
      "2. hot dog\n",
      "3. fries\n"
     ]
    }
   ],
   "source": [
    "print(\"The Menu:\")\n",
    "print(\"select a category\\n1. indian\\n2. italian\\n3. american\")\n",
    "choice=int(input(\"enter a number from the menu:\"))\n",
    "match choice:\n",
    "    case 1: print(\"indian dishes\\n1. dosa\\n2. idli\\n3. samber\")\n",
    "    case 2:print(\"italian dishes\\n1. pizza\\n2 pasta\\n3. lasagna\")\n",
    "    case 3: print(\"american dishes\\n1. burger\\n2. hot dog\\n3. fries\" )\n",
    "    case _:print(\"invalid category\")"
   ]
  },
  {
   "cell_type": "code",
   "execution_count": 18,
   "metadata": {},
   "outputs": [
    {
     "name": "stdout",
     "output_type": "stream",
     "text": [
      "the menu:\n",
      "select a category:\n",
      "-> indian\n",
      "-> italian\n",
      "-> chinese\n",
      "-> american\n",
      "---> dosa\n",
      "---> idli\n",
      "---> sambar\n"
     ]
    }
   ],
   "source": [
    "india=[\"dosa\", \"idli\", \"sambar\"]\n",
    "italian = [\"pizza\", \"pasta\",\"lasagna\"]\n",
    "chinese =[\"noodles\", \"fried rise\",\"manchurian\"]\n",
    "american= [\"burger\",\"hot dog\",\"fries\"]\n",
    "menu=[\"indian\",\"italian\",\"chinese\",\"american\"]\n",
    "print(\"the menu:\")\n",
    "print(\"select a category:\")\n",
    "for choice in menu:\n",
    "    print(\"->\",choice)\n",
    "ch = input(\"select one:\")\n",
    "match ch:\n",
    "    case \"india\":\n",
    "        for dish in india: print(\"--->\",dish)\n",
    "    case \"italian\":\n",
    "        for dish in italian: print(\"--->\",dish)\n",
    "    case \"chinese\":\n",
    "        for dish in chinese: print(\"--->\",dish)\n",
    "    case \"ameracan\":\n",
    "        for dish in american: print(\"--->\",dish)\n",
    "    case _:\n",
    "        print(\"->>>>>>invalid category\")\n"
   ]
  },
  {
   "cell_type": "code",
   "execution_count": null,
   "metadata": {},
   "outputs": [],
   "source": []
  }
 ],
 "metadata": {
  "kernelspec": {
   "display_name": "base",
   "language": "python",
   "name": "python3"
  },
  "language_info": {
   "codemirror_mode": {
    "name": "ipython",
    "version": 3
   },
   "file_extension": ".py",
   "mimetype": "text/x-python",
   "name": "python",
   "nbconvert_exporter": "python",
   "pygments_lexer": "ipython3",
   "version": "3.11.5"
  }
 },
 "nbformat": 4,
 "nbformat_minor": 2
}
