{
 "cells": [
  {
   "cell_type": "code",
   "execution_count": 1,
   "metadata": {},
   "outputs": [],
   "source": [
    "def multi (a,b):\n",
    "    return a*b"
   ]
  },
  {
   "cell_type": "code",
   "execution_count": 2,
   "metadata": {},
   "outputs": [
    {
     "data": {
      "text/plain": [
       "200"
      ]
     },
     "execution_count": 2,
     "metadata": {},
     "output_type": "execute_result"
    }
   ],
   "source": [
    "multi(10,20) #positional arguments"
   ]
  },
  {
   "cell_type": "code",
   "execution_count": 3,
   "metadata": {},
   "outputs": [
    {
     "data": {
      "text/plain": [
       "30"
      ]
     },
     "execution_count": 3,
     "metadata": {},
     "output_type": "execute_result"
    }
   ],
   "source": [
    "multi(a=10, b=3) #keyword argument\n"
   ]
  },
  {
   "cell_type": "code",
   "execution_count": 4,
   "metadata": {},
   "outputs": [
    {
     "data": {
      "text/plain": [
       "200"
      ]
     },
     "execution_count": 4,
     "metadata": {},
     "output_type": "execute_result"
    }
   ],
   "source": [
    "multi(b=20, a=10) #keyword argument"
   ]
  },
  {
   "cell_type": "code",
   "execution_count": 5,
   "metadata": {},
   "outputs": [],
   "source": [
    "def si(p,r,t):\n",
    "    return p*r*t/100"
   ]
  },
  {
   "cell_type": "code",
   "execution_count": 7,
   "metadata": {},
   "outputs": [
    {
     "name": "stdout",
     "output_type": "stream",
     "text": [
      "1750.0\n",
      "2100.0\n",
      "2625.0\n"
     ]
    }
   ],
   "source": [
    "ans=si(10000,3.5, 5)\n",
    "print(ans)\n",
    "ans=si(12000,t=5 ,r=3.5)\n",
    "print(ans)\n",
    "ans=si(15000,t=5,r=3.5)\n",
    "print(ans)"
   ]
  },
  {
   "cell_type": "code",
   "execution_count": 9,
   "metadata": {},
   "outputs": [],
   "source": [
    "def generate_cards():\n",
    "    symbol =['♠️','♦️','♣️','♥️']\n",
    "    cards=[]\n",
    "    for s in symbol:\n",
    "        for i in list(range(2,11))+['J','Q','K','A']:\n",
    "            cards.append(f'{s}{i}')\n",
    "    return cards        \n",
    "\n"
   ]
  },
  {
   "cell_type": "code",
   "execution_count": 13,
   "metadata": {},
   "outputs": [],
   "source": [
    "from random import sample\n",
    "def distribute(size=13):\n",
    "    return sample(generate_cards(),size)\n"
   ]
  },
  {
   "cell_type": "code",
   "execution_count": 14,
   "metadata": {},
   "outputs": [
    {
     "data": {
      "text/plain": [
       "['♦️3',\n",
       " '♠️2',\n",
       " '♥️7',\n",
       " '♠️6',\n",
       " '♥️Q',\n",
       " '♥️2',\n",
       " '♦️Q',\n",
       " '♠️5',\n",
       " '♥️3',\n",
       " '♣️2',\n",
       " '♠️4',\n",
       " '♦️8',\n",
       " '♥️J']"
      ]
     },
     "execution_count": 14,
     "metadata": {},
     "output_type": "execute_result"
    }
   ],
   "source": [
    "distribute()"
   ]
  },
  {
   "cell_type": "code",
   "execution_count": 15,
   "metadata": {},
   "outputs": [
    {
     "name": "stdout",
     "output_type": "stream",
     "text": [
      "🧔‍♂️shivam have['♠️A', '♥️6', '♥️2', '♦️8', '♠️10', '♦️3', '♠️K', '♦️10', '♦️K', '♥️Q', '♣️J', '♣️9', '♣️3']\n",
      "🧔‍♂️rajya have['♥️8', '♦️3', '♥️3', '♦️5', '♣️4', '♦️K', '♠️2', '♦️J', '♣️8', '♣️J', '♠️Q', '♥️9', '♣️6']\n",
      "🧔‍♂️vansh have['♣️7', '♦️5', '♦️K', '♣️A', '♥️5', '♣️5', '♣️8', '♣️9', '♦️4', '♥️8', '♥️7', '♦️7', '♦️10']\n",
      "🧔‍♂️amita have['♠️3', '♥️2', '♥️3', '♦️6', '♣️K', '♥️7', '♠️6', '♥️6', '♥️J', '♣️7', '♦️4', '♠️K', '♠️J']\n"
     ]
    }
   ],
   "source": [
    "names=['shivam','rajya','vansh','amita']\n",
    "for name in names:\n",
    "    print(f'🧔‍♂️{name} have{distribute()}')"
   ]
  },
  {
   "cell_type": "code",
   "execution_count": 16,
   "metadata": {},
   "outputs": [
    {
     "name": "stdout",
     "output_type": "stream",
     "text": [
      "120\n",
      "256\n"
     ]
    }
   ],
   "source": [
    "def multi(*nums):\n",
    "    temp=1\n",
    "    for n in nums:\n",
    "        temp*=n\n",
    "    return temp\n",
    "print(multi(2,3,4,5,))\n",
    "print(multi(2,2,2,2,2,2,2,2))"
   ]
  },
  {
   "cell_type": "code",
   "execution_count": 23,
   "metadata": {},
   "outputs": [],
   "source": [
    "def purchase(**products):\n",
    "    total=0\n",
    "    for name, value in products.items():\n",
    "        print(f'🛒 {name:10} {value:.2F}')\n",
    "        total +=value\n",
    "    print('_'*20)\n",
    "    print(f'Total Amount{total}')"
   ]
  },
  {
   "cell_type": "code",
   "execution_count": 24,
   "metadata": {},
   "outputs": [
    {
     "name": "stdout",
     "output_type": "stream",
     "text": [
      "🛒 shoes      2000.00\n",
      "🛒 suit       5000.00\n",
      "🛒 watch      3000.00\n",
      "🛒 shirt      1000.00\n",
      "____________________\n",
      "Total Amount11000\n"
     ]
    }
   ],
   "source": [
    "purchase(shoes=2000, suit=5000,watch=3000,shirt=1000)"
   ]
  },
  {
   "cell_type": "code",
   "execution_count": 26,
   "metadata": {},
   "outputs": [],
   "source": [
    "f=lambda x: x**2 + x +1"
   ]
  },
  {
   "cell_type": "code",
   "execution_count": 27,
   "metadata": {},
   "outputs": [],
   "source": [
    "g=lambda x,y: x**2 +y**2+2*x*y"
   ]
  },
  {
   "cell_type": "code",
   "execution_count": 28,
   "metadata": {},
   "outputs": [
    {
     "name": "stdout",
     "output_type": "stream",
     "text": [
      "185761\n",
      "900\n",
      "15429184\n"
     ]
    }
   ],
   "source": [
    "print(g(10, f(20)))\n",
    "print(g(10,20))\n",
    "print(g(1711,2217))"
   ]
  },
  {
   "cell_type": "code",
   "execution_count": null,
   "metadata": {},
   "outputs": [],
   "source": []
  }
 ],
 "metadata": {
  "kernelspec": {
   "display_name": "base",
   "language": "python",
   "name": "python3"
  },
  "language_info": {
   "codemirror_mode": {
    "name": "ipython",
    "version": 3
   },
   "file_extension": ".py",
   "mimetype": "text/x-python",
   "name": "python",
   "nbconvert_exporter": "python",
   "pygments_lexer": "ipython3",
   "version": "3.11.5"
  }
 },
 "nbformat": 4,
 "nbformat_minor": 2
}
