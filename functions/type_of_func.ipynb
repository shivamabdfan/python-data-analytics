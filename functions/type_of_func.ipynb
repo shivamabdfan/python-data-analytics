{
 "cells": [
  {
   "cell_type": "code",
   "execution_count": 2,
   "metadata": {},
   "outputs": [
    {
     "name": "stdout",
     "output_type": "stream",
     "text": [
      "☀️☀️☀️☀️☀️☀️☀️\n",
      "☀️good morning☀️\n",
      "☀️☀️☀️☀️☀️☀️☀️\n"
     ]
    }
   ],
   "source": [
    "def greeting():\n",
    "    print('☀️'*7)\n",
    "    print(\"☀️good morning☀️\")\n",
    "    print('☀️'*7)\n",
    "greeting()"
   ]
  },
  {
   "cell_type": "code",
   "execution_count": 6,
   "metadata": {},
   "outputs": [
    {
     "name": "stdout",
     "output_type": "stream",
     "text": [
      "batwomen\n"
     ]
    }
   ],
   "source": [
    "from random import choice \n",
    "def generate_name ():\n",
    "    fnames=['bat','bird','mouse','chicken','dog']\n",
    "    lnames=['man','women','boy','girl']\n",
    "    return choice(fnames)+choice(lnames)\n",
    "hero=generate_name()\n",
    "print(hero)"
   ]
  },
  {
   "cell_type": "code",
   "execution_count": 7,
   "metadata": {},
   "outputs": [
    {
     "name": "stdout",
     "output_type": "stream",
     "text": [
      "birdgirl\n",
      "birdwomen\n",
      "batgirl\n",
      "birdboy\n",
      "dogboy\n",
      "dogman\n",
      "dogwomen\n",
      "batgirl\n",
      "mouseman\n",
      "batwomen\n"
     ]
    }
   ],
   "source": [
    "for i in range(10):\n",
    "    print(generate_name())"
   ]
  },
  {
   "cell_type": "code",
   "execution_count": 18,
   "metadata": {},
   "outputs": [],
   "source": [
    "def text_cake(name,age):\n",
    "    layer=age//2\n",
    "    s=13\n",
    "    print('🕯️'.center(s))\n",
    "    print(str('~'*3).center(s))\n",
    "    print(str('#'*5).center(s))\n",
    "    for i in range(layer):print('~'*s)\n",
    "    print(name.center(s,'~'))\n",
    "    for i in range(layer):print('#'*s)\n",
    "    "
   ]
  },
  {
   "cell_type": "code",
   "execution_count": 19,
   "metadata": {},
   "outputs": [
    {
     "name": "stdout",
     "output_type": "stream",
     "text": [
      "      🕯️     \n",
      "     ~~~     \n",
      "    #####    \n",
      "~~~~~~~~~~~~~\n",
      "~~~~~~~~~~~~~\n",
      "~~~~~~~~~~~~~\n",
      "~~~~~~~~~~~~~\n",
      "~~~~~~~~~~~~~\n",
      "~~~~~~~~~~~~~\n",
      "~~~~~~~~~~~~~\n",
      "~~~~~zaid~~~~\n",
      "#############\n",
      "#############\n",
      "#############\n",
      "#############\n",
      "#############\n",
      "#############\n",
      "#############\n"
     ]
    }
   ],
   "source": [
    "text_cake('zaid', 15)"
   ]
  },
  {
   "cell_type": "code",
   "execution_count": 24,
   "metadata": {},
   "outputs": [
    {
     "name": "stdout",
     "output_type": "stream",
     "text": [
      "25 175\n"
     ]
    }
   ],
   "source": [
    "def add(a, b):\n",
    "    return a+b\n",
    "\n",
    "ans=add(12, 13)\n",
    "new_ans=add(ans,150)\n",
    "print(ans, new_ans)"
   ]
  },
  {
   "cell_type": "code",
   "execution_count": 25,
   "metadata": {},
   "outputs": [
    {
     "data": {
      "text/plain": [
       "28.181818181818183"
      ]
     },
     "execution_count": 25,
     "metadata": {},
     "output_type": "execute_result"
    }
   ],
   "source": [
    "add(12,13)*add(12,50)/add(23,32)"
   ]
  },
  {
   "cell_type": "code",
   "execution_count": 27,
   "metadata": {},
   "outputs": [
    {
     "data": {
      "text/plain": [
       "28.181818181818183"
      ]
     },
     "execution_count": 27,
     "metadata": {},
     "output_type": "execute_result"
    }
   ],
   "source": [
    "a=add(12,13)\n",
    "b=add(12,50)\n",
    "c=add(23,32)\n",
    "a*b/c"
   ]
  },
  {
   "cell_type": "code",
   "execution_count": null,
   "metadata": {},
   "outputs": [],
   "source": []
  }
 ],
 "metadata": {
  "kernelspec": {
   "display_name": "base",
   "language": "python",
   "name": "python3"
  },
  "language_info": {
   "codemirror_mode": {
    "name": "ipython",
    "version": 3
   },
   "file_extension": ".py",
   "mimetype": "text/x-python",
   "name": "python",
   "nbconvert_exporter": "python",
   "pygments_lexer": "ipython3",
   "version": "3.11.5"
  }
 },
 "nbformat": 4,
 "nbformat_minor": 2
}
