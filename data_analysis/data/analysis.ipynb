{
 "cells": [
  {
   "cell_type": "code",
   "execution_count": 1,
   "metadata": {},
   "outputs": [
    {
     "ename": "SyntaxError",
     "evalue": "invalid syntax (4133519273.py, line 5)",
     "output_type": "error",
     "traceback": [
      "\u001b[1;36m  Cell \u001b[1;32mIn[1], line 5\u001b[1;36m\u001b[0m\n\u001b[1;33m    import plotly plotly.express as px\u001b[0m\n\u001b[1;37m                  ^\u001b[0m\n\u001b[1;31mSyntaxError\u001b[0m\u001b[1;31m:\u001b[0m invalid syntax\n"
     ]
    }
   ],
   "source": [
    "import pandas as pd\n",
    "import numpy as np\n",
    "import matplotlip.pyplot as plt\n",
    "import seaborn as sns\n",
    "import plotly plotly.express as px"
   ]
  },
  {
   "cell_type": "code",
   "execution_count": 1,
   "metadata": {},
   "outputs": [],
   "source": [
    "def load_data():\n",
    "    # load the data\n",
    "    df = pd.read_excel('data/Canada.xlsx', \n",
    "                   sheet_name=1,\n",
    "                   skiprows=20, \n",
    "                   skipfooter=2)\n",
    "    # rename the columns\n",
    "    df = df.rename(columns={\n",
    "        'OdName': 'country',\n",
    "        'AreaName': 'continent',\n",
    "        'RegName': 'region',\n",
    "        'DevName': 'status',\n",
    "    })\n",
    "    # rename the values accordingly\n",
    "    df = df.replace('United Kingdom of Great Britain and Northern Ireland','UK',)\n",
    "    # drop unnecessary columns\n",
    "    cols_to_drop = ['Type', 'Coverage', 'AREA', 'REG', 'DEV']\n",
    "    df = df.drop(columns=cols_to_drop)\n",
    "    # create a new column to display the total\n",
    "    years = list(range(1980, 2014))\n",
    "    df['total'] = df[years].sum(axis=1)\n",
    "    return df # return the dataframe"
   ]
  },
  {
   "cell_type": "code",
   "execution_count": null,
   "metadata": {},
   "outputs": [],
   "source": []
  }
 ],
 "metadata": {
  "kernelspec": {
   "display_name": "base",
   "language": "python",
   "name": "python3"
  },
  "language_info": {
   "codemirror_mode": {
    "name": "ipython",
    "version": 3
   },
   "file_extension": ".py",
   "mimetype": "text/x-python",
   "name": "python",
   "nbconvert_exporter": "python",
   "pygments_lexer": "ipython3",
   "version": "3.11.5"
  }
 },
 "nbformat": 4,
 "nbformat_minor": 2
}
