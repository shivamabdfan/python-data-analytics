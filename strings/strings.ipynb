{
 "cells": [
  {
   "cell_type": "code",
   "execution_count": 1,
   "metadata": {},
   "outputs": [
    {
     "name": "stdout",
     "output_type": "stream",
     "text": [
      "apple\n",
      "banana\n",
      "chochlet and vanilla\n"
     ]
    }
   ],
   "source": [
    "a= 'apple'\n",
    "b= \"banana\"\n",
    "c= \"\"\"chochlet and vanilla\"\"\"\n",
    "print(a)\n",
    "print(b)\n",
    "print(c)"
   ]
  },
  {
   "cell_type": "code",
   "execution_count": 5,
   "metadata": {},
   "outputs": [
    {
     "name": "stdout",
     "output_type": "stream",
     "text": [
      "AlexAlexAlexAlexAlex\n"
     ]
    }
   ],
   "source": [
    "d=1.2345\n",
    "d= str(d)\n",
    "e= 'Alex' * 5\n",
    "print(e)\n"
   ]
  },
  {
   "cell_type": "code",
   "execution_count": 6,
   "metadata": {},
   "outputs": [
    {
     "data": {
      "text/plain": [
       "'he110'"
      ]
     },
     "execution_count": 6,
     "metadata": {},
     "output_type": "execute_result"
    }
   ],
   "source": [
    "'he' + '11' + '0'"
   ]
  },
  {
   "cell_type": "code",
   "execution_count": 12,
   "metadata": {},
   "outputs": [
    {
     "name": "stdout",
     "output_type": "stream",
     "text": [
      "11\n",
      "c\n",
      "i\n",
      "l\n",
      "r\n",
      "p\n",
      "h\n",
      "l\n"
     ]
    }
   ],
   "source": [
    "a='calligraphy'\n",
    "print(len(a))\n",
    "print(a[0])\n",
    "print(a[4])\n",
    "print(a[2])\n",
    "print(a[6])\n",
    "print(a[8])\n",
    "print(a[9])\n",
    "print(a[3])\n"
   ]
  },
  {
   "cell_type": "code",
   "execution_count": 13,
   "metadata": {},
   "outputs": [
    {
     "name": "stdout",
     "output_type": "stream",
     "text": [
      "y\n",
      "h\n",
      "p\n",
      "a\n",
      "r\n",
      "g\n"
     ]
    }
   ],
   "source": [
    "print(a[-1])\n",
    "print(a[-2])\n",
    "print(a[-3])\n",
    "print(a[-4])\n",
    "print(a[-5])\n",
    "print(a[-6])"
   ]
  },
  {
   "cell_type": "code",
   "execution_count": 18,
   "metadata": {},
   "outputs": [
    {
     "name": "stdout",
     "output_type": "stream",
     "text": [
      "10 y\n",
      "9 h\n",
      "8 p\n",
      "7 a\n",
      "6 r\n",
      "5 g\n",
      "4 i\n",
      "3 l\n",
      "2 l\n",
      "1 a\n"
     ]
    }
   ],
   "source": [
    "for i in range(10,0,-1):\n",
    "    print(i, a[i])\n"
   ]
  },
  {
   "cell_type": "code",
   "execution_count": 21,
   "metadata": {},
   "outputs": [
    {
     "name": "stdout",
     "output_type": "stream",
     "text": [
      "A l e x a\n",
      "Alex\n",
      "ander\n"
     ]
    }
   ],
   "source": [
    "b='Alexander'\n",
    "print(b[0], b[1], b[2], b[3], b[4])\n",
    "print(b[0:4])\n",
    "print(b[4:10])"
   ]
  },
  {
   "cell_type": "code",
   "execution_count": 28,
   "metadata": {},
   "outputs": [
    {
     "name": "stdout",
     "output_type": "stream",
     "text": [
      "Vijay\n",
      "Deenanath\n",
      "Chauhan\n"
     ]
    }
   ],
   "source": [
    "name= 'Vijay Deenanath Chauhan'\n",
    "print(name[0:5])\n",
    "print(name[6:15])\n",
    "print(name[16:23])"
   ]
  },
  {
   "cell_type": "code",
   "execution_count": null,
   "metadata": {},
   "outputs": [],
   "source": []
  }
 ],
 "metadata": {
  "kernelspec": {
   "display_name": "base",
   "language": "python",
   "name": "python3"
  },
  "language_info": {
   "codemirror_mode": {
    "name": "ipython",
    "version": 3
   },
   "file_extension": ".py",
   "mimetype": "text/x-python",
   "name": "python",
   "nbconvert_exporter": "python",
   "pygments_lexer": "ipython3",
   "version": "3.11.5"
  }
 },
 "nbformat": 4,
 "nbformat_minor": 2
}
