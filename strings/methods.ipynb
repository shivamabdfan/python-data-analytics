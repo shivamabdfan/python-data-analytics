{
 "cells": [
  {
   "cell_type": "code",
   "execution_count": 1,
   "metadata": {},
   "outputs": [
    {
     "name": "stdout",
     "output_type": "stream",
     "text": [
      "Hello World\n"
     ]
    }
   ],
   "source": [
    "\n",
    "my_string = \"Hello World\"\n",
    "print(my_string)\n"
   ]
  },
  {
   "cell_type": "code",
   "execution_count": 3,
   "metadata": {},
   "outputs": [
    {
     "name": "stdout",
     "output_type": "stream",
     "text": [
      "5\n"
     ]
    }
   ],
   "source": [
    "\n",
    "user_input = input(\"Enter a string: \")\n",
    "string_length = len(user_input)\n",
    "print(string_length)\n"
   ]
  },
  {
   "cell_type": "code",
   "execution_count": 4,
   "metadata": {},
   "outputs": [
    {
     "name": "stdout",
     "output_type": "stream",
     "text": [
      "The last word is: great\n"
     ]
    }
   ],
   "source": [
    "string = \"python is great\"\n",
    "words = string.split()\n",
    "word = words[-1]\n",
    "print(\"The last word is:\",word)\n",
    "\n"
   ]
  },
  {
   "cell_type": "code",
   "execution_count": 5,
   "metadata": {},
   "outputs": [
    {
     "name": "stdout",
     "output_type": "stream",
     "text": [
      "python\n",
      "is\n",
      "everything\n"
     ]
    }
   ],
   "source": [
    "sentence = \"python is everything\"\n",
    "words = sentence.split()\n",
    "for word in words:\n",
    "    print(word)\n"
   ]
  },
  {
   "cell_type": "code",
   "execution_count": 9,
   "metadata": {},
   "outputs": [
    {
     "name": "stdout",
     "output_type": "stream",
     "text": [
      "HOW ARE YOU?\n",
      "how are you?\n",
      "How are you?\n",
      "How Are You?\n",
      "HOW ARE YOU?\n",
      "how are you?\n"
     ]
    }
   ],
   "source": [
    "msg ='how are you?'\n",
    "print(msg.upper())\n",
    "print(msg.lower())\n",
    "print(msg.capitalize())\n",
    "print(msg.title())\n",
    "print(msg.swapcase())\n",
    "print(msg)"
   ]
  },
  {
   "cell_type": "code",
   "execution_count": 10,
   "metadata": {},
   "outputs": [
    {
     "name": "stdout",
     "output_type": "stream",
     "text": [
      "how is it going\n"
     ]
    }
   ],
   "source": [
    "msg=\"how is it going\"\n",
    "print(msg.lower())"
   ]
  },
  {
   "cell_type": "code",
   "execution_count": 14,
   "metadata": {},
   "outputs": [
    {
     "name": "stdout",
     "output_type": "stream",
     "text": [
      "python  is  everything\n"
     ]
    }
   ],
   "source": [
    "word=[\"python\",\"is\",\"easy\",\"to\",\"learn\"]\n",
    "sentence='  '.join(words) #convert string into list\n",
    "print(sentence)"
   ]
  },
  {
   "cell_type": "code",
   "execution_count": 15,
   "metadata": {},
   "outputs": [
    {
     "name": "stdout",
     "output_type": "stream",
     "text": [
      "this is a sroty,\n",
      "where we are learing python,\n",
      "and you are just\n"
     ]
    }
   ],
   "source": [
    "print('''this is a sroty,\n",
    "where we are learing python,\n",
    "and you are just''')"
   ]
  },
  {
   "cell_type": "code",
   "execution_count": 16,
   "metadata": {},
   "outputs": [
    {
     "name": "stdout",
     "output_type": "stream",
     "text": [
      "to move to newline '\\n' is used.\n"
     ]
    }
   ],
   "source": [
    "sentence= \"to move to newline '\\\\n' is used.\" #r-> raw raw string \n",
    "#or \\\\n\n",
    "print(sentence)"
   ]
  },
  {
   "cell_type": "code",
   "execution_count": 17,
   "metadata": {},
   "outputs": [
    {
     "name": "stdout",
     "output_type": "stream",
     "text": [
      "the variable is 15\n"
     ]
    }
   ],
   "source": [
    "a= 15\n",
    "print(f'the variable is {a}')"
   ]
  },
  {
   "cell_type": "code",
   "execution_count": 21,
   "metadata": {},
   "outputs": [
    {
     "name": "stdout",
     "output_type": "stream",
     "text": [
      "pyhton is great \n"
     ]
    }
   ],
   "source": [
    "s1= 'pyhton '\n",
    "s2= 'is '\n",
    "s3= 'great '\n",
    "print(s1 + s2 + s3)"
   ]
  },
  {
   "cell_type": "code",
   "execution_count": 22,
   "metadata": {},
   "outputs": [
    {
     "name": "stdout",
     "output_type": "stream",
     "text": [
      "# # # # # # # # # # # # # # # # # # # # \n"
     ]
    }
   ],
   "source": [
    "print(\"# \" * 20)\n"
   ]
  },
  {
   "cell_type": "code",
   "execution_count": 25,
   "metadata": {},
   "outputs": [
    {
     "name": "stdout",
     "output_type": "stream",
     "text": [
      "1.\n",
      "2.\n",
      "3.\n",
      "4.\n",
      "5.\n",
      "6.\n",
      "7.\n",
      "8.\n",
      "9.\n"
     ]
    }
   ],
   "source": [
    "for number in range(1, 10):\n",
    "    print(f'{number}.')\n"
   ]
  },
  {
   "cell_type": "code",
   "execution_count": 1,
   "metadata": {},
   "outputs": [
    {
     "name": "stdout",
     "output_type": "stream",
     "text": [
      "ones upon a time, there was a king, and the king was old, there was no time for the king\n"
     ]
    }
   ],
   "source": [
    "msg= '''ones upon a time, there was a king, and the king was old, there was no time for the king'''\n",
    "print(msg)"
   ]
  },
  {
   "cell_type": "code",
   "execution_count": 4,
   "metadata": {},
   "outputs": [
    {
     "name": "stdout",
     "output_type": "stream",
     "text": [
      "time was found at 12\n",
      "time was found at 71\n",
      "time was found at -1\n"
     ]
    }
   ],
   "source": [
    "idx=msg.find(\"time\")\n",
    "print(f\"time was found at {idx}\")\n",
    "idx2 = msg.find(\"time\", idx+1)\n",
    "print(f\"time was found at {idx2}\")\n",
    "idx3=msg.find(\"time\", idx2+1)\n",
    "print(f\"time was found at {idx3}\")"
   ]
  },
  {
   "cell_type": "code",
   "execution_count": 5,
   "metadata": {},
   "outputs": [
    {
     "name": "stdout",
     "output_type": "stream",
     "text": [
      "ones upon a time, there was a queen, and the queen was old, there was no time for the queen\n",
      "ones upon e time, there wes e king, end the king wes old, there wes no time for the king\n",
      "ones upon a time, there were a king, and the king were old, there were no time for the king\n"
     ]
    }
   ],
   "source": [
    "print(msg.replace(\"king\",\"queen\"))\n",
    "print(msg.replace(\"a\",\"e\"))\n",
    "print(msg.replace(\"was\",\"were\"))\n"
   ]
  },
  {
   "cell_type": "code",
   "execution_count": 6,
   "metadata": {},
   "outputs": [
    {
     "name": "stdout",
     "output_type": "stream",
     "text": [
      "ones upon a year,1, there was a king, and the king was young, there was no year,1 for the king\n"
     ]
    }
   ],
   "source": [
    "msg2= msg.replace(\"time\",\"year,1\").replace(\"old\",\"young\")\n",
    "print(msg2)"
   ]
  },
  {
   "cell_type": "code",
   "execution_count": 9,
   "metadata": {},
   "outputs": [
    {
     "name": "stdout",
     "output_type": "stream",
     "text": [
      "21\n",
      "apple and bananas 17\n"
     ]
    }
   ],
   "source": [
    "dirty_data=\"  apple and bananas  \"\n",
    "print(len(dirty_data))\n",
    "clean_data=dirty_data.strip()\n",
    "print(clean_data, len(clean_data))"
   ]
  },
  {
   "cell_type": "code",
   "execution_count": 12,
   "metadata": {},
   "outputs": [
    {
     "name": "stdout",
     "output_type": "stream",
     "text": [
      "csv file\n"
     ]
    }
   ],
   "source": [
    "file= \"data.csv\"\n",
    "if file.endswith(\".txt\"):\n",
    "    print(\"text file\")\n",
    "if file.endswith(\".csv\"):\n",
    "    print(\"csv file\")"
   ]
  },
  {
   "cell_type": "code",
   "execution_count": 13,
   "metadata": {},
   "outputs": [
    {
     "data": {
      "text/plain": [
       "6"
      ]
     },
     "execution_count": 13,
     "metadata": {},
     "output_type": "execute_result"
    }
   ],
   "source": [
    "msg.count(\"a\")"
   ]
  },
  {
   "cell_type": "code",
   "execution_count": 3,
   "metadata": {},
   "outputs": [
    {
     "name": "stdout",
     "output_type": "stream",
     "text": [
      "The input is not a number.\n"
     ]
    }
   ],
   "source": [
    "def is_number(input_str):\n",
    "    float(input_str)\n",
    "user_input = input(\"Enter something: \")\n",
    "\n",
    "if is_number(user_input):\n",
    "    print(\"The input is a number.\")\n",
    "else:\n",
    "    print(\"The input is not a number.\")\n"
   ]
  },
  {
   "cell_type": "code",
   "execution_count": 4,
   "metadata": {},
   "outputs": [
    {
     "name": "stdout",
     "output_type": "stream",
     "text": [
      "this is not a good string\n"
     ]
    }
   ],
   "source": [
    "text = '   this is not a good string   '\n",
    "cleaned_text = text.strip()\n",
    "print(cleaned_text)\n"
   ]
  },
  {
   "cell_type": "code",
   "execution_count": 7,
   "metadata": {},
   "outputs": [
    {
     "name": "stdout",
     "output_type": "stream",
     "text": [
      "No uppercase character found.\n"
     ]
    }
   ],
   "source": [
    "user = input(\"Enter a string: \")\n",
    "uppercase = False\n",
    "for char in user:\n",
    "    if char.isupper():\n",
    "        uppercase = True\n",
    "        break\n",
    "if uppercase:\n",
    "    print(\"Found at least one uppercase character.\")\n",
    "else:\n",
    "    print(\"No uppercase character found.\")\n"
   ]
  },
  {
   "cell_type": "code",
   "execution_count": 11,
   "metadata": {},
   "outputs": [
    {
     "name": "stdout",
     "output_type": "stream",
     "text": [
      "['Joe, David, Mark, ', ', Chris, Robert']\n"
     ]
    }
   ],
   "source": [
    "names = 'Joe, David, Mark, Tom, Chris, Robert'\n",
    "names_list = names.split(\"Tom\")\n",
    "print(names_list)\n"
   ]
  },
  {
   "cell_type": "code",
   "execution_count": 15,
   "metadata": {},
   "outputs": [
    {
     "name": "stdout",
     "output_type": "stream",
     "text": [
      "thisaye isaye someaye textaye\n"
     ]
    }
   ],
   "source": [
    "text = 'this is some text'\n",
    "words = text.split()\n",
    "modified_words = [word + 'aye' for word in words]\n",
    "result = ' '.join(modified_words)\n",
    "print(result)\n"
   ]
  },
  {
   "cell_type": "code",
   "execution_count": 21,
   "metadata": {},
   "outputs": [
    {
     "name": "stdout",
     "output_type": "stream",
     "text": [
      "Average word length: 4.636363636363637\n"
     ]
    }
   ],
   "source": [
    "paragraph = \"this is a paragraph which is written just for the purpose of providing content to let the average word length be calculated\"\n",
    "words = paragraph.split()\n",
    "length = sum(len(word) for word in words)\n",
    "word_count = len(words)\n",
    "average_word_length = length / word_count if word_count > 0 else 0\n",
    "print(\"Average word length:\", average_word_length)\n"
   ]
  },
  {
   "cell_type": "code",
   "execution_count": 5,
   "metadata": {},
   "outputs": [
    {
     "name": "stdout",
     "output_type": "stream",
     "text": [
      "python\n"
     ]
    }
   ],
   "source": [
    "text = '%p34@y!*-*!t68h#&on404'\n",
    "from string import punctuation, digits\n",
    "for kachra in punctuation + digits:\n",
    "    text = text.replace(kachra,\"\")\n",
    "print(text)"
   ]
  },
  {
   "cell_type": "code",
   "execution_count": null,
   "metadata": {},
   "outputs": [],
   "source": []
  }
 ],
 "metadata": {
  "kernelspec": {
   "display_name": "base",
   "language": "python",
   "name": "python3"
  },
  "language_info": {
   "codemirror_mode": {
    "name": "ipython",
    "version": 3
   },
   "file_extension": ".py",
   "mimetype": "text/x-python",
   "name": "python",
   "nbconvert_exporter": "python",
   "pygments_lexer": "ipython3",
   "version": "3.11.5"
  }
 },
 "nbformat": 4,
 "nbformat_minor": 2
}
