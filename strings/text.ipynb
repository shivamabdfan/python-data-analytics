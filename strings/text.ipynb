{
 "cells": [
  {
   "cell_type": "code",
   "execution_count": 6,
   "metadata": {},
   "outputs": [
    {
     "name": "stdout",
     "output_type": "stream",
     "text": [
      "517699\n"
     ]
    }
   ],
   "source": [
    "file =r'C:\\Users\\ashwa\\Downloads\\ASHWANI\\pg72670.txt'\n",
    "with open(file, errors= \"ignore\") as f:\n",
    "    content = f.read()\n",
    "print(len(content))"
   ]
  },
  {
   "cell_type": "code",
   "execution_count": 19,
   "metadata": {},
   "outputs": [
    {
     "name": "stdout",
     "output_type": "stream",
     "text": [
      "The number of words in the file is: 85531\n"
     ]
    }
   ],
   "source": [
    "def count_words(text):\n",
    "    words = text.split()\n",
    "    return len(words)\n",
    "file_path = r'C:\\Users\\ashwa\\Downloads\\ASHWANI\\pg72670.txt'\n",
    "with open(file_path, errors=\"ignore\") as f:\n",
    "    content = f.read()\n",
    "word_count = count_words(content)\n",
    "print(f'The number of words in the file is: {word_count}')\n"
   ]
  },
  {
   "cell_type": "code",
   "execution_count": 20,
   "metadata": {},
   "outputs": [
    {
     "name": "stdout",
     "output_type": "stream",
     "text": [
      "The number of vowels in the file is: 152971\n"
     ]
    }
   ],
   "source": [
    "def count_vowels(text):\n",
    "    vowels = \"aeiouAEIOU\"\n",
    "    return sum(1 for char in text if char in vowels)\n",
    "file_path = r'C:\\Users\\ashwa\\Downloads\\ASHWANI\\pg72670.txt'\n",
    "with open(file_path, errors=\"ignore\") as f:\n",
    "    content = f.read()\n",
    "vowel_count = count_vowels(content)\n",
    "print(f'The number of vowels in the file is: {vowel_count}')"
   ]
  },
  {
   "cell_type": "code",
   "execution_count": 21,
   "metadata": {},
   "outputs": [
    {
     "name": "stdout",
     "output_type": "stream",
     "text": [
      "The longest word in the file is: ------------------------------------------------------------------------\n"
     ]
    }
   ],
   "source": [
    "def find_longest_word(text):\n",
    "    words = text.split()\n",
    "    return max(words, key=len)\n",
    "file_path = r'C:\\Users\\ashwa\\Downloads\\ASHWANI\\pg72670.txt'\n",
    "with open(file_path, errors=\"ignore\") as f:\n",
    "    content = f.read()\n",
    "longest_word = find_longest_word(content)\n",
    "print(f'The longest word in the file is: {longest_word}')"
   ]
  },
  {
   "cell_type": "code",
   "execution_count": 23,
   "metadata": {},
   "outputs": [
    {
     "name": "stdout",
     "output_type": "stream",
     "text": [
      "The most common word in the file is: the\n"
     ]
    }
   ],
   "source": [
    "from collections import Counter\n",
    "def most_common_word(text):\n",
    "    words = text.split()\n",
    "    word_counts = Counter(words)\n",
    "    return word_counts.most_common(1)[0][0]\n",
    "file_path = r'C:\\Users\\ashwa\\Downloads\\ASHWANI\\pg72670.txt'\n",
    "with open(file_path, errors=\"ignore\") as f:\n",
    "    content = f.read()\n",
    "common_word = most_common_word(content)\n",
    "print(f'The most common word in the file is: {common_word}')"
   ]
  },
  {
   "cell_type": "code",
   "execution_count": null,
   "metadata": {},
   "outputs": [],
   "source": []
  },
  {
   "cell_type": "markdown",
   "metadata": {},
   "source": [
    "- create functions\n",
    "1. waf to return the compund interest for P,R,T\n",
    "2. waf to return al the words starting with the letter given as parameter\n",
    "3. waf to return the factorial of a given number"
   ]
  },
  {
   "cell_type": "code",
   "execution_count": 2,
   "metadata": {},
   "outputs": [
    {
     "name": "stdout",
     "output_type": "stream",
     "text": [
      "The compound interest is: 4641.00\n"
     ]
    }
   ],
   "source": [
    "def compound_interest(principal, rate, time):\n",
    "    rate_decimal = rate / 100.0\n",
    "    amount = principal * (1 + rate_decimal ) ** (time)\n",
    "    compound_interest = amount - principal\n",
    "    return compound_interest\n",
    "principal_amount = 10000\n",
    "annual_interest_rate = 10\n",
    "time_in_years = 4\n",
    "result = compound_interest(principal_amount, annual_interest_rate, time_in_years)\n",
    "print(f\"The compound interest is: {result:.2f}\")"
   ]
  },
  {
   "cell_type": "code",
   "execution_count": 12,
   "metadata": {},
   "outputs": [
    {
     "name": "stdout",
     "output_type": "stream",
     "text": [
      "Words starting with 'apple': ['apple']\n"
     ]
    }
   ],
   "source": [
    "def words_starting_with_letter(word_list, start_letter):\n",
    "    result = [word for word in word_list if word.lower().startswith(start_letter.lower())]\n",
    "    return result\n",
    "word_list = [\"apple\", \"banana\", \"orange\", \"grape\", \"kiwi\", \"melon\"]\n",
    "start_letter = input(\"Enter the letter to filter words: \")\n",
    "filtered_words = words_starting_with_letter(word_list, start_letter)\n",
    "print(f\"Words starting with '{start_letter}': {filtered_words}\")\n"
   ]
  },
  {
   "cell_type": "code",
   "execution_count": 14,
   "metadata": {},
   "outputs": [
    {
     "name": "stdout",
     "output_type": "stream",
     "text": [
      "The factorial of 16 is: 20922789888000\n"
     ]
    }
   ],
   "source": [
    "def factorial(n):\n",
    "    if n == 0 or n == 1:\n",
    "        return 1\n",
    "    else:\n",
    "        return n * factorial(n - 1)\n",
    "number = int(input(\"Enter a number to calculate its factorial: \"))\n",
    "result = factorial(number)\n",
    "print(f\"The factorial of {number} is: {result}\")\n"
   ]
  },
  {
   "cell_type": "code",
   "execution_count": null,
   "metadata": {},
   "outputs": [],
   "source": []
  }
 ],
 "metadata": {
  "kernelspec": {
   "display_name": "base",
   "language": "python",
   "name": "python3"
  },
  "language_info": {
   "codemirror_mode": {
    "name": "ipython",
    "version": 3
   },
   "file_extension": ".py",
   "mimetype": "text/x-python",
   "name": "python",
   "nbconvert_exporter": "python",
   "pygments_lexer": "ipython3",
   "version": "3.11.5"
  }
 },
 "nbformat": 4,
 "nbformat_minor": 2
}
