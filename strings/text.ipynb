{
 "cells": [
  {
   "cell_type": "code",
   "execution_count": 6,
   "metadata": {},
   "outputs": [
    {
     "name": "stdout",
     "output_type": "stream",
     "text": [
      "517699\n"
     ]
    }
   ],
   "source": [
    "file =r'C:\\Users\\ashwa\\Downloads\\ASHWANI\\pg72670.txt'\n",
    "with open(file, errors= \"ignore\") as f:\n",
    "    content = f.read()\n",
    "print(len(content))"
   ]
  },
  {
   "cell_type": "code",
   "execution_count": 19,
   "metadata": {},
   "outputs": [
    {
     "name": "stdout",
     "output_type": "stream",
     "text": [
      "The number of words in the file is: 85531\n"
     ]
    }
   ],
   "source": [
    "def count_words(text):\n",
    "    words = text.split()\n",
    "    return len(words)\n",
    "file_path = r'C:\\Users\\ashwa\\Downloads\\ASHWANI\\pg72670.txt'\n",
    "with open(file_path, errors=\"ignore\") as f:\n",
    "    content = f.read()\n",
    "word_count = count_words(content)\n",
    "print(f'The number of words in the file is: {word_count}')\n"
   ]
  },
  {
   "cell_type": "code",
   "execution_count": 20,
   "metadata": {},
   "outputs": [
    {
     "name": "stdout",
     "output_type": "stream",
     "text": [
      "The number of vowels in the file is: 152971\n"
     ]
    }
   ],
   "source": [
    "def count_vowels(text):\n",
    "    vowels = \"aeiouAEIOU\"\n",
    "    return sum(1 for char in text if char in vowels)\n",
    "file_path = r'C:\\Users\\ashwa\\Downloads\\ASHWANI\\pg72670.txt'\n",
    "with open(file_path, errors=\"ignore\") as f:\n",
    "    content = f.read()\n",
    "vowel_count = count_vowels(content)\n",
    "print(f'The number of vowels in the file is: {vowel_count}')"
   ]
  },
  {
   "cell_type": "code",
   "execution_count": 21,
   "metadata": {},
   "outputs": [
    {
     "name": "stdout",
     "output_type": "stream",
     "text": [
      "The longest word in the file is: ------------------------------------------------------------------------\n"
     ]
    }
   ],
   "source": [
    "def find_longest_word(text):\n",
    "    words = text.split()\n",
    "    return max(words, key=len)\n",
    "file_path = r'C:\\Users\\ashwa\\Downloads\\ASHWANI\\pg72670.txt'\n",
    "with open(file_path, errors=\"ignore\") as f:\n",
    "    content = f.read()\n",
    "longest_word = find_longest_word(content)\n",
    "print(f'The longest word in the file is: {longest_word}')"
   ]
  },
  {
   "cell_type": "code",
   "execution_count": 23,
   "metadata": {},
   "outputs": [
    {
     "name": "stdout",
     "output_type": "stream",
     "text": [
      "The most common word in the file is: the\n"
     ]
    }
   ],
   "source": [
    "from collections import Counter\n",
    "def most_common_word(text):\n",
    "    words = text.split()\n",
    "    word_counts = Counter(words)\n",
    "    return word_counts.most_common(1)[0][0]\n",
    "file_path = r'C:\\Users\\ashwa\\Downloads\\ASHWANI\\pg72670.txt'\n",
    "with open(file_path, errors=\"ignore\") as f:\n",
    "    content = f.read()\n",
    "common_word = most_common_word(content)\n",
    "print(f'The most common word in the file is: {common_word}')"
   ]
  },
  {
   "cell_type": "code",
   "execution_count": null,
   "metadata": {},
   "outputs": [],
   "source": []
  }
 ],
 "metadata": {
  "kernelspec": {
   "display_name": "base",
   "language": "python",
   "name": "python3"
  },
  "language_info": {
   "codemirror_mode": {
    "name": "ipython",
    "version": 3
   },
   "file_extension": ".py",
   "mimetype": "text/x-python",
   "name": "python",
   "nbconvert_exporter": "python",
   "pygments_lexer": "ipython3",
   "version": "3.11.5"
  }
 },
 "nbformat": 4,
 "nbformat_minor": 2
}
